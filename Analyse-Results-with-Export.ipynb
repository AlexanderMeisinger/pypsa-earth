{
 "cells": [
  {
   "cell_type": "markdown",
   "metadata": {},
   "source": [
    "# Analyse results from Pypsa-Earth"
   ]
  },
  {
   "cell_type": "markdown",
   "metadata": {},
   "source": [
    "Sources: \n",
    "- Plot capacity - map view: https://github.com/pypsa-meets-earth/documentation/blob/main/notebooks/viz/regional_transm_system_viz.ipynb\n",
    "- Analyse energy potential: https://github.com/pypsa-meets-earth/documentation/blob/main/notebooks/build_renewable_profiles.ipynb\n",
    "- Analyse energy generation: https://pypsa.readthedocs.io/en/latest/examples/statistics.html"
   ]
  },
  {
   "cell_type": "markdown",
   "metadata": {},
   "source": [
    "Some files are needed:\n",
    "* PyPSA network file (e.g. \"elec.nc\" contains a lot of details and looks perfect)\n",
    "* a country shape file (may be found in \"resources/shapes/country_shapes.geojson\")\n",
    "* a renewable profile file (may be found in \"resources/renewable_profiles/....nc)"
   ]
  },
  {
   "cell_type": "markdown",
   "metadata": {},
   "source": [
    "## Own setting"
   ]
  },
  {
   "cell_type": "code",
   "execution_count": null,
   "metadata": {},
   "outputs": [],
   "source": [
    "# Check config.yaml - run:\n",
    "name = \"\"\n",
    "\n",
    "\n",
    "# Check config.yaml - scenario: \n",
    "clusters = 8\n",
    "opts = \"Co2L1-1H\" \n",
    "export = \"4.5\"\n",
    "WACC = \"9\"\n"
   ]
  },
  {
   "cell_type": "markdown",
   "metadata": {},
   "source": [
    "## Import packages"
   ]
  },
  {
   "cell_type": "code",
   "execution_count": null,
   "metadata": {},
   "outputs": [],
   "source": [
    "import yaml\n",
    "import pypsa\n",
    "import warnings\n",
    "import matplotlib.pyplot as plt\n",
    "import geopandas as gpd\n",
    "import numpy as np\n",
    "import pandas as pd\n",
    "from pathlib import Path\n",
    "import seaborn as sns\n",
    "from datetime import datetime\n",
    "from cartopy import crs as ccrs\n",
    "from pypsa.plot import add_legend_circles, add_legend_lines, add_legend_patches\n",
    "import os\n",
    "import xarray as xr\n",
    "import cartopy"
   ]
  },
  {
   "cell_type": "markdown",
   "metadata": {},
   "source": [
    "## Path settings"
   ]
  },
  {
   "cell_type": "code",
   "execution_count": null,
   "metadata": {},
   "outputs": [],
   "source": [
    "nc_file_name = \"elec_s_\" + str(clusters) + \"_ec_lcopt_\" + opts + \"-\" + export + \"Export\" + \"-\" + WACC + \"WACC\" + \".nc\"\n",
    "\n",
    "scenario_name = name \n",
    "scenario_subpath = scenario_name + \"/\" if scenario_name else \"\"\n",
    "\n",
    "# Network file\n",
    "results_path = \"results/\" + scenario_name + \"/networks/\" + nc_file_name\n",
    "network_path = \"networks/\" + scenario_name + \"/elec.nc\"\n",
    "# Country shape file\n",
    "regions_onshore_path = \"resources/\" + scenario_name + \"/shapes/country_shapes.geojson\"\n",
    "# Renewable profile file\n",
    "solar_path = \"resources/\" + scenario_name + \"/renewable_profiles/profile_solar.nc\"\n",
    "onwind_path = \"resources/\" + scenario_name + \"/renewable_profiles/profile_onwind.nc\" "
   ]
  },
  {
   "cell_type": "markdown",
   "metadata": {},
   "source": [
    "## Energy system analysis setup - power and energy generation"
   ]
  },
  {
   "cell_type": "code",
   "execution_count": null,
   "metadata": {},
   "outputs": [],
   "source": [
    "warnings.simplefilter(action='ignore', category=FutureWarning)\n",
    "n = pypsa.Network(results_path)\n",
    "regions_onshore = gpd.read_file(regions_onshore_path)\n",
    "country_coordinates = regions_onshore.total_bounds[[0, 2, 1, 3]]\n",
    "warnings.simplefilter(action='default', category=FutureWarning)"
   ]
  },
  {
   "cell_type": "markdown",
   "metadata": {},
   "source": [
    "FENES color setting"
   ]
  },
  {
   "cell_type": "code",
   "execution_count": null,
   "metadata": {},
   "outputs": [],
   "source": [
    "def rgb_to_hex(r, g, b):\n",
    "    return '#{:02x}{:02x}{:02x}'.format(r, g, b)\n",
    "\n",
    "FENES_color = n.carriers.color\n",
    "FENES_color[\"nuclear\"] = rgb_to_hex(206,55,62) #adapted\n",
    "FENES_color[\"OCGT\"] = rgb_to_hex(228,147,44)\n",
    "FENES_color[\"coal\"] = rgb_to_hex(80,80,80)\n",
    "FENES_color[\"CCGT\"] = rgb_to_hex(218,137,34) #adapted\n",
    "FENES_color[\"biomass\"] = rgb_to_hex(29,152,56)\n",
    "FENES_color[\"lignite\"] = rgb_to_hex(185,100,40)\n",
    "FENES_color[\"oil\"] = rgb_to_hex(0,0,0)\n",
    "FENES_color[\"geothermal\"] = rgb_to_hex(176,25,32)\n",
    "FENES_color[\"hydro\"] = rgb_to_hex(27,90,166)\n",
    "FENES_color[\"offwind-ac\"] = rgb_to_hex(18,143,207)\n",
    "FENES_color[\"offwind-dc\"] = rgb_to_hex(8,133,197) #adapted\n",
    "FENES_color[\"onwind\"] = rgb_to_hex(28,153,218) #adapted\n",
    "FENES_color[\"solar\"] = rgb_to_hex(228,203,58)\n",
    "FENES_color[\"PHS\"] = \"#08ad97\"\n",
    "FENES_color[\"ror\"] = \"#4adbc8\"\n",
    "FENES_color[\"H2\"] = \"#ea048a\"\n",
    "FENES_color[\"battery\"] = rgb_to_hex(140,191,62)\n",
    "\n",
    "n.carriers.color = FENES_color\n",
    "\n",
    "# Set export\n",
    "n.carriers.loc[\"export\", \"nice_name\"] = \"Export\"\n",
    "n.carriers.loc[\"export\", \"color\"] = \"#800080\""
   ]
  },
  {
   "cell_type": "markdown",
   "metadata": {},
   "source": [
    "## Data import check"
   ]
  },
  {
   "cell_type": "markdown",
   "metadata": {},
   "source": [
    "Country check"
   ]
  },
  {
   "cell_type": "code",
   "execution_count": null,
   "metadata": {},
   "outputs": [],
   "source": [
    "fig, ax = plt.subplots(figsize=(8, 8), subplot_kw={\"projection\": ccrs.EqualEarth(n.buses.x.mean())})\n",
    "with plt.rc_context({\"patch.linewidth\": 0.}):\n",
    "    regions_onshore.plot(\n",
    "    ax=ax,\n",
    "    facecolor=\"green\",\n",
    "    edgecolor=\"white\",\n",
    "    aspect=\"equal\",\n",
    "    transform=ccrs.PlateCarree(),\n",
    "    linewidth=0,\n",
    "    )\n",
    "ax.set_title(\", \".join(regions_onshore.name.values))"
   ]
  },
  {
   "cell_type": "markdown",
   "metadata": {},
   "source": [
    "Component check"
   ]
  },
  {
   "cell_type": "code",
   "execution_count": null,
   "metadata": {},
   "outputs": [],
   "source": [
    "for c in n.iterate_components(list(n.components.keys())[2:]):\n",
    "    print(\"Component '{}' has {} entries\".format(c.name,len(c.df)))"
   ]
  },
  {
   "cell_type": "markdown",
   "metadata": {},
   "source": [
    "Snapshot check"
   ]
  },
  {
   "cell_type": "code",
   "execution_count": null,
   "metadata": {},
   "outputs": [],
   "source": [
    "print(n.snapshots)\n",
    "print(f\"Time steps: \" + str(len(n.snapshots)))"
   ]
  },
  {
   "cell_type": "markdown",
   "metadata": {},
   "source": [
    "## Analyse energy system"
   ]
  },
  {
   "cell_type": "markdown",
   "metadata": {},
   "source": [
    "Analyse the current capacity of the energy system - map view"
   ]
  },
  {
   "cell_type": "code",
   "execution_count": null,
   "metadata": {},
   "outputs": [],
   "source": [
    "# Scale settings\n",
    "bus_scale = 2e3 \n",
    "line_scale = 1e3\n",
    "\n",
    "# Legend settings\n",
    "bus_sizes = [100, 1000]  # in MW\n",
    "line_sizes = [100, 1000]  # in MW\n",
    "\n",
    "n.carriers.drop(\"Load\", inplace=True)\n",
    "\n",
    "fig, ax = plt.subplots(figsize=(8, 8), subplot_kw={\"projection\": ccrs.EqualEarth(n.buses.x.mean())})\n",
    "gen = n.generators[(n.generators.carrier != \"load\") & (n.generators.carrier != \"export\")].groupby([\"bus\", \"carrier\"]).p_nom.sum()\n",
    "sto = n.storage_units.groupby([\"bus\", \"carrier\"]).p_nom.sum()\n",
    "buses = pd.concat([gen, sto])\n",
    "\n",
    "with plt.rc_context({\"patch.linewidth\": 0.}):\n",
    "    n.plot(\n",
    "        bus_sizes=buses / bus_scale,\n",
    "        bus_alpha=0.7,\n",
    "        line_widths=n.lines.s_nom_opt / line_scale,\n",
    "        link_widths=n.links[n.links.carrier != \"export\"].p_nom_opt / line_scale,\n",
    "        line_colors=\"teal\",\n",
    "        ax=ax,\n",
    "        margin=0.2,\n",
    "        color_geomap=None,\n",
    "    )\n",
    "regions_onshore.plot(\n",
    "    ax=ax,\n",
    "    facecolor=\"whitesmoke\",\n",
    "    edgecolor=\"white\",\n",
    "    aspect=\"equal\",\n",
    "    transform=ccrs.PlateCarree(),\n",
    "    linewidth=0,\n",
    ")\n",
    "ax.set_extent(regions_onshore.total_bounds[[0, 2, 1, 3]])\n",
    "legend_kwargs = {\"loc\": \"upper left\", \"frameon\": False}\n",
    "legend_circles_dict = {\"bbox_to_anchor\": (1, 0.67), \"labelspacing\": 2.5, **legend_kwargs}\n",
    "\n",
    "add_legend_circles(\n",
    "    ax,\n",
    "    [s / bus_scale for s in bus_sizes],\n",
    "    [f\"{s / 1000} GW\" for s in bus_sizes],\n",
    "    legend_kw=legend_circles_dict,    \n",
    ")\n",
    "add_legend_lines(\n",
    "    ax,\n",
    "    [s / line_scale for s in line_sizes],\n",
    "    [f\"{s / 1000} GW\" for s in line_sizes],\n",
    "    legend_kw={\"bbox_to_anchor\": (1, 0.8), **legend_kwargs},\n",
    ")\n",
    "add_legend_patches(\n",
    "    ax,\n",
    "    n.carriers.color,\n",
    "    n.carriers.nice_name,\n",
    "    legend_kw={\"bbox_to_anchor\": (1, 0), **legend_kwargs, \"loc\":\"lower left\"},\n",
    ")\n",
    "fig.tight_layout()"
   ]
  },
  {
   "cell_type": "markdown",
   "metadata": {},
   "source": [
    "Analyse the current generation capacity of the energy system - pie chart view"
   ]
  },
  {
   "cell_type": "code",
   "execution_count": null,
   "metadata": {},
   "outputs": [],
   "source": [
    "generator_capacity_by_carrier = n.generators[(n.generators.carrier != \"load\") & (n.generators.carrier != \"export\")].groupby([\"carrier\"]).p_nom.sum()\n",
    "plt.figure(figsize=(8, 8))\n",
    "# Filter out carriers with zero capacity\n",
    "filtered_capacity = generator_capacity_by_carrier[generator_capacity_by_carrier > 0]\n",
    "# Get the corresponding colors\n",
    "filtered_colors = n.carriers[n.carriers.index.isin(filtered_capacity.index)].color.reindex(filtered_capacity.index)\n",
    "# Plot the pie chart\n",
    "plt.pie(filtered_capacity, labels=filtered_capacity.index, autopct='%1.1f%%', colors=filtered_colors)\n",
    "plt.title(\"Generator Capacity by Carrier\")"
   ]
  },
  {
   "cell_type": "markdown",
   "metadata": {},
   "source": [
    "Analyse the current gernation capacity of the energy system - tabular view"
   ]
  },
  {
   "cell_type": "code",
   "execution_count": null,
   "metadata": {},
   "outputs": [],
   "source": [
    "generator_capacity_by_carrier/1e3 # in GW"
   ]
  },
  {
   "cell_type": "markdown",
   "metadata": {},
   "source": [
    "Analyse the future capacity of the energy system - map view"
   ]
  },
  {
   "cell_type": "code",
   "execution_count": null,
   "metadata": {},
   "outputs": [],
   "source": [
    "bus_scale = 5e3 \n",
    "line_scale = 1e3\n",
    "\n",
    "fig, ax = plt.subplots(figsize=(8, 8), subplot_kw={\"projection\": ccrs.EqualEarth(n.buses.x.mean())})\n",
    "gen = n.generators[(n.generators.carrier != \"load\") & (n.generators.carrier != \"export\")].groupby([\"bus\", \"carrier\"]).p_nom_opt.sum()\n",
    "sto = n.storage_units.groupby([\"bus\", \"carrier\"]).p_nom_opt.sum()\n",
    "buses = pd.concat([gen, sto])\n",
    "\n",
    "with plt.rc_context({\"patch.linewidth\": 0.}):\n",
    "    n.plot(\n",
    "        bus_sizes=buses / bus_scale,\n",
    "        bus_alpha=0.7,\n",
    "        line_widths=n.lines.s_nom_opt / line_scale,\n",
    "        link_widths=n.links[n.links.carrier != \"export\"].p_nom_opt / line_scale,\n",
    "        line_colors=\"teal\",\n",
    "        ax=ax,\n",
    "        margin=0.2,\n",
    "        color_geomap=None,\n",
    "    )\n",
    "regions_onshore.plot(\n",
    "    ax=ax,\n",
    "    facecolor=\"whitesmoke\",\n",
    "    edgecolor=\"white\",\n",
    "    aspect=\"equal\",\n",
    "    transform=ccrs.PlateCarree(),\n",
    "    linewidth=0,\n",
    ")\n",
    "ax.set_extent(regions_onshore.total_bounds[[0, 2, 1, 3]])\n",
    "legend_kwargs = {\"loc\": \"upper left\", \"frameon\": False}\n",
    "legend_circles_dict = {\"bbox_to_anchor\": (1, 0.67), \"labelspacing\": 2.5, **legend_kwargs}\n",
    "\n",
    "add_legend_circles(\n",
    "    ax,\n",
    "    [s / bus_scale for s in bus_sizes],\n",
    "    [f\"{s / 1000} GW\" for s in bus_sizes],\n",
    "    legend_kw=legend_circles_dict,    \n",
    ")\n",
    "add_legend_lines(\n",
    "    ax,\n",
    "    [s / line_scale for s in line_sizes],\n",
    "    [f\"{s / 1000} GW\" for s in line_sizes],\n",
    "    legend_kw={\"bbox_to_anchor\": (1, 0.8), **legend_kwargs},\n",
    ")\n",
    "add_legend_patches(\n",
    "    ax,\n",
    "    n.carriers.color,\n",
    "    n.carriers.nice_name,\n",
    "    legend_kw={\"bbox_to_anchor\": (1, 0), **legend_kwargs, \"loc\":\"lower left\"},\n",
    ")\n",
    "fig.tight_layout()"
   ]
  },
  {
   "cell_type": "markdown",
   "metadata": {},
   "source": [
    "Calculate emissions of future energy system"
   ]
  },
  {
   "cell_type": "code",
   "execution_count": null,
   "metadata": {},
   "outputs": [],
   "source": [
    "co2_emissions = pd.DataFrame(data=n.carriers[[\"co2_emissions\", \"nice_name\"]]).set_index(\"nice_name\").squeeze().rename_axis(\"carrier\")\n",
    "\n",
    "energy_production = n.statistics.energy_balance().Generator.droplevel(1).drop([\"load\", \"export\"], errors=\"ignore\")\n",
    "\n",
    "co2_emissions_technology = energy_production * co2_emissions.loc[energy_production.index]\n",
    "co2_emissions_technology"
   ]
  },
  {
   "cell_type": "code",
   "execution_count": null,
   "metadata": {},
   "outputs": [],
   "source": [
    "co2_emissions_sum = co2_emissions_technology.sum()\n",
    "co2_emissions_sum"
   ]
  },
  {
   "cell_type": "code",
   "execution_count": null,
   "metadata": {},
   "outputs": [],
   "source": [
    "n.global_constraints"
   ]
  },
  {
   "cell_type": "code",
   "execution_count": null,
   "metadata": {},
   "outputs": [],
   "source": [
    "# Step 1: Create the links_energy DataFrame with \"carrier\" and \"bus0\" columns\n",
    "links_energy = n.links[[\"carrier\", \"bus0\"]]\n",
    "\n",
    "# Step 2: Filter only rows where \"carrier\" contains 'export'\n",
    "links_energy = links_energy[links_energy[\"carrier\"].str.contains(\"export\", case=False, na=False)]\n",
    "\n",
    "# Step 3: Calculate the energy sum for indices that contain 'export'\n",
    "export_energy = n.links_t.p0.sum()\n",
    "export_energy = export_energy[export_energy.index.str.contains(\"export\", case=False, na=False)]\n",
    "\n",
    "# Step 4: Map the energy sum to the correct rows in links_energy based on the index\n",
    "links_energy[\"energy\"] = links_energy.index.map(export_energy)\n",
    "\n",
    "# Step 5: Group by \"bus0\" and \"carrier\" and sum the \"energy\" values\n",
    "links_energy_grouped = links_energy.groupby([\"bus0\", \"carrier\"], as_index=False)[\"energy\"].sum()\n",
    "\n",
    "# Display the result\n",
    "links_energy_grouped\n"
   ]
  },
  {
   "cell_type": "code",
   "execution_count": null,
   "metadata": {},
   "outputs": [],
   "source": [
    "links_energy_grouped.energy.sum()"
   ]
  },
  {
   "cell_type": "code",
   "execution_count": null,
   "metadata": {},
   "outputs": [],
   "source": [
    "# Scale settings\n",
    "bus_scale = 0.1e8\n",
    "line_scale = 3e5\n",
    "\n",
    "fig, ax = plt.subplots(figsize=(8, 8), subplot_kw={\"projection\": ccrs.EqualEarth(n.buses.x.mean())})\n",
    "export = links_energy_grouped[links_energy_grouped.carrier == \"export\"].groupby([\"bus0\", \"carrier\"]).energy.sum()\n",
    "buses = pd.concat([export])\n",
    "\n",
    "with plt.rc_context({\"patch.linewidth\": 0.}):\n",
    "    n.plot(\n",
    "        bus_sizes=buses / bus_scale,\n",
    "        bus_alpha=0.7,\n",
    "        line_widths=n.lines.s_nom_opt / line_scale,\n",
    "        link_widths=n.links.p_nom_opt / line_scale,\n",
    "        line_colors=\"teal\",\n",
    "        ax=ax,\n",
    "        margin=0.2,\n",
    "        color_geomap=None,\n",
    "    )\n",
    "regions_onshore.plot(\n",
    "    ax=ax,\n",
    "    facecolor=\"whitesmoke\",\n",
    "    edgecolor=\"white\",\n",
    "    aspect=\"equal\",\n",
    "    transform=ccrs.PlateCarree(),\n",
    "    linewidth=0,\n",
    ")\n",
    "ax.set_extent(regions_onshore.total_bounds[[0, 2, 1, 3]])\n",
    "legend_kwargs = {\"loc\": \"upper left\", \"frameon\": False}\n",
    "legend_circles_dict = {\"bbox_to_anchor\": (1, 0.67), \"labelspacing\": 2.5, **legend_kwargs}\n",
    "\n",
    "add_legend_circles(\n",
    "    ax,\n",
    "    [s / bus_scale for s in bus_sizes],\n",
    "    [f\"{s / 1000} GW\" for s in bus_sizes],\n",
    "    legend_kw=legend_circles_dict,    \n",
    ")\n",
    "add_legend_lines(\n",
    "    ax,\n",
    "    [s / line_scale for s in line_sizes],\n",
    "    [f\"{s / 1000} GW\" for s in line_sizes],\n",
    "    legend_kw={\"bbox_to_anchor\": (1, 0.8), **legend_kwargs},\n",
    ")\n",
    "add_legend_patches(\n",
    "    ax,\n",
    "    n.carriers.color.loc[\"export\"],\n",
    "    n.carriers.nice_name.loc[\"export\"],\n",
    "    legend_kw={\"bbox_to_anchor\": (1, 0), **legend_kwargs, \"loc\":\"lower left\"},\n",
    ")\n",
    "fig.tight_layout()"
   ]
  },
  {
   "cell_type": "markdown",
   "metadata": {},
   "source": [
    "Analys the future generation capacity expansion of the energy system - bar chart"
   ]
  },
  {
   "cell_type": "code",
   "execution_count": null,
   "metadata": {},
   "outputs": [],
   "source": [
    "generation_capacity_expansion = n.statistics.optimal_capacity(comps=[\"Generator\"]).droplevel(0).div(1e3)-n.statistics.installed_capacity(comps=[\"Generator\"]).droplevel(0).div(1e3)\n",
    "generation_capacity_expansion.plot.bar(title=\"Generator capacity expansion in GW\")"
   ]
  },
  {
   "cell_type": "markdown",
   "metadata": {},
   "source": [
    "Plot the future generation capacity expansion of the energy system - tabular chart"
   ]
  },
  {
   "cell_type": "code",
   "execution_count": null,
   "metadata": {},
   "outputs": [],
   "source": [
    "generation_capacity_expansion # In GW"
   ]
  },
  {
   "cell_type": "markdown",
   "metadata": {},
   "source": [
    "Analyse the future energy generation of the energy system - bar chart view"
   ]
  },
  {
   "cell_type": "code",
   "execution_count": null,
   "metadata": {},
   "outputs": [],
   "source": [
    "# Color for figure\n",
    "n.carriers.loc[\"H2 electrolysis\", \"nice_name\"] = \"H2 Electrolysis\"\n",
    "n.carriers.loc[\"H2 electrolysis\", \"color\"] = \"#ea048a\"\n",
    "n.carriers.loc[\"H2 fuel cell\", \"nice_name\"] = \"H2 Fuel Cell\"\n",
    "n.carriers.loc[\"H2 fuel cell\", \"color\"] = \"#ea048a\"\n",
    "n.carriers.loc[\"battery charger\", \"nice_name\"] = \"Battery Charger\"\n",
    "n.carriers.loc[\"battery charger\", \"color\"] = rgb_to_hex(140,191,62)\n",
    "n.carriers.loc[\"battery discharger\", \"nice_name\"] = \"Battery Discharger\"\n",
    "n.carriers.loc[\"battery discharger\", \"color\"] = rgb_to_hex(140,191,62)\n",
    "n.carriers.loc[\"load\", \"nice_name\"] = \"Load\"\n",
    "n.carriers.loc[\"load\", \"color\"] = \"#8b0000\""
   ]
  },
  {
   "cell_type": "code",
   "execution_count": null,
   "metadata": {},
   "outputs": [],
   "source": [
    "# Set the index of n.carriers to nice_name\n",
    "color_setting = n.carriers.set_index('nice_name')\n",
    "\n",
    "# Calculate energy balance\n",
    "energy_balance = n.statistics.energy_balance().loc[:, :, \"AC\"].groupby(\"carrier\").sum().sort_values(ascending=False).div(1e6).to_frame().T\n",
    "energy_balance.drop(columns=[\"Load\"], inplace=True)\n",
    "energy_balance.rename(columns={'-': 'Load'}, inplace=True)\n",
    "\n",
    "# Get the colors for the carriers\n",
    "colors = color_setting.loc[energy_balance.columns, 'color']\n",
    "\n",
    "# Plot the bar chart with colors\n",
    "fig, ax = plt.subplots()\n",
    "energy_balance.plot.bar(stacked=True, ax=ax, title=\"Energy Balance in TWh\", color=colors)\n",
    "\n",
    "# Adjust legend\n",
    "ax.legend(bbox_to_anchor=(1, 0), loc=\"lower left\", title=None, ncol=1)\n",
    "\n",
    "plt.show()\n"
   ]
  },
  {
   "cell_type": "markdown",
   "metadata": {},
   "source": [
    "Analyse the future energy generation of the energy system - tabular view"
   ]
  },
  {
   "cell_type": "code",
   "execution_count": null,
   "metadata": {},
   "outputs": [],
   "source": [
    "n.statistics.energy_balance()/1e6 # In TWh"
   ]
  },
  {
   "cell_type": "markdown",
   "metadata": {},
   "source": [
    "## Analyse pv and wind potential - map view"
   ]
  },
  {
   "cell_type": "code",
   "execution_count": null,
   "metadata": {},
   "outputs": [],
   "source": [
    "solar = xr.open_dataset(solar_path)\n",
    "wind = xr.open_dataset(onwind_path)\n",
    "\n",
    "def plot_voronoi(n, carrier, voronoi, cmap, projection, title=None, filename=None):\n",
    "    g = n.generators.loc[n.generators.carrier == carrier]\n",
    "    br = gpd.read_file(f\"resources/{scenario_name}/bus_regions/regions_{voronoi}.geojson\").set_index(\"name\")\n",
    "    br_area = br.to_crs(\"ESRI:54009\")\n",
    "    br_area = br_area.geometry.area * 1e-6\n",
    "    br[\"p_nom_max\"] = g.groupby(\"bus\").sum().p_nom_max / br_area\n",
    "\n",
    "    fig, ax = plt.subplots(figsize=(8, 4), subplot_kw={\"projection\": projection})\n",
    "    plt.rcParams.update({\"font.size\": 10})\n",
    "    br.plot(\n",
    "        ax=ax,\n",
    "        column=\"p_nom_max\",\n",
    "        transform=ccrs.PlateCarree(),\n",
    "        linewidth=0.25,\n",
    "        edgecolor=\"k\",\n",
    "        cmap=cmap,\n",
    "        vmin=0,\n",
    "        vmax=br[\"p_nom_max\"].max(),\n",
    "        legend=True,\n",
    "        legend_kwds={\"label\": r\"potential density\"},\n",
    "    )\n",
    "    ax.coastlines()\n",
    "    ax.add_feature(cartopy.feature.BORDERS.with_scale(\"110m\"))\n",
    "    ax.set_extent(country_coordinates, crs=ccrs.PlateCarree()) \n",
    "    \n",
    "    if title is not None:\n",
    "        plt.title(title)"
   ]
  },
  {
   "cell_type": "markdown",
   "metadata": {},
   "source": [
    "Plot pv energy potential"
   ]
  },
  {
   "cell_type": "code",
   "execution_count": null,
   "metadata": {},
   "outputs": [],
   "source": [
    "warnings.simplefilter(action='ignore', category=FutureWarning)\n",
    "plot_voronoi(\n",
    "    pypsa.Network(network_path),\n",
    "    \"solar\",\n",
    "    \"onshore\",\n",
    "    \"OrRd\",\n",
    "    ccrs.PlateCarree(),\n",
    "    title=\"Solar Photovoltaic Potential Density [MW/km2]\",\n",
    ")\n",
    "warnings.simplefilter(action='default', category=FutureWarning)"
   ]
  },
  {
   "cell_type": "markdown",
   "metadata": {},
   "source": [
    "Plot wind energy potential"
   ]
  },
  {
   "cell_type": "code",
   "execution_count": null,
   "metadata": {},
   "outputs": [],
   "source": [
    "warnings.simplefilter(action='ignore', category=FutureWarning)\n",
    "plot_voronoi(\n",
    "    pypsa.Network(network_path),\n",
    "    \"onwind\",\n",
    "    \"onshore\",\n",
    "    \"Blues\",\n",
    "    ccrs.PlateCarree(),\n",
    "    title=\"Onshore Wind Potential Density [MW/km2]\",\n",
    ")\n",
    "warnings.simplefilter(action='default', category=FutureWarning)"
   ]
  },
  {
   "cell_type": "markdown",
   "metadata": {},
   "source": [
    "Levelized cost of electricity"
   ]
  },
  {
   "cell_type": "code",
   "execution_count": null,
   "metadata": {},
   "outputs": [],
   "source": [
    "# Calculation levelzied cost of electricity in €/MWh based on overall costs and electricity generation\n",
    "# n.statistics.market_value() ?\n",
    "lcoe = n.objective/n.statistics.energy_balance().Generator.sum()\n",
    "lcoe "
   ]
  },
  {
   "cell_type": "code",
   "execution_count": null,
   "metadata": {},
   "outputs": [],
   "source": [
    "# Calculation levelzied cost of electricity in €/MWh based on overall costs and electricity demand\n",
    "lcoe = n.objective/n.statistics.energy_balance().Load.sum()*(-1)\n",
    "lcoe "
   ]
  },
  {
   "cell_type": "markdown",
   "metadata": {},
   "source": [
    "Average THG value"
   ]
  },
  {
   "cell_type": "code",
   "execution_count": null,
   "metadata": {},
   "outputs": [],
   "source": [
    "THG_Strom = co2_emissions_technology.sum()/n.statistics.energy_balance().Generator.sum()\n",
    "THG_Strom #t CO2/MWh Strom bzw. kg CO2/kWh Strom\n",
    "THG_H2 = THG_Strom/0.65 #Wirkungsgrad Elektrolyseur\n",
    "THG_H2 #kg CO2/kWh H2\n",
    "THG_H2 = THG_H2*33.33 #kWh/kg\n",
    "THG_H2 # kg CO2/kg H2"
   ]
  }
 ],
 "metadata": {
  "kernelspec": {
   "display_name": "pypsa-eur",
   "language": "python",
   "name": "python3"
  },
  "language_info": {
   "codemirror_mode": {
    "name": "ipython",
    "version": 3
   },
   "file_extension": ".py",
   "mimetype": "text/x-python",
   "name": "python",
   "nbconvert_exporter": "python",
   "pygments_lexer": "ipython3",
   "version": "3.12.7"
  }
 },
 "nbformat": 4,
 "nbformat_minor": 2
}
